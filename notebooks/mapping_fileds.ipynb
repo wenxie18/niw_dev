{
 "cells": [
  {
   "cell_type": "code",
   "execution_count": 1,
   "id": "c2712c94-fd47-4b45-8b36-9f6a60c48159",
   "metadata": {},
   "outputs": [],
   "source": [
    "import fitz  # PyMuPDF\n",
    "import json"
   ]
  },
  {
   "cell_type": "code",
   "execution_count": null,
   "id": "b8130cd0-4af6-4d0d-812d-0d3653a093ab",
   "metadata": {},
   "outputs": [],
   "source": []
  },
  {
   "cell_type": "markdown",
   "id": "691e9967-ec09-42b9-9432-49d811c66c2e",
   "metadata": {},
   "source": [
    "# get all fields name"
   ]
  },
  {
   "cell_type": "markdown",
   "id": "a592bea5-54f0-413f-a19d-530952400fd8",
   "metadata": {
    "jp-MarkdownHeadingCollapsed": true,
    "tags": []
   },
   "source": [
    "## g-1145"
   ]
  },
  {
   "cell_type": "code",
   "execution_count": 3,
   "id": "2c358466-365c-479b-b8b7-843b08d1227c",
   "metadata": {},
   "outputs": [],
   "source": [
    "# Load the PDF\n",
    "mapping1145 = {}\n",
    "\n",
    "pdf_path = \"g-1145.pdf\"\n",
    "doc = fitz.open(pdf_path)\n",
    "\n",
    "all_fields = []\n",
    "for page_idx, page in enumerate(doc):\n",
    "    # Get all form fields (widgets) on this page\n",
    "    fields = page.widgets()\n",
    "    \n",
    "    # Append field names to the all_fields list\n",
    "    for field in fields:\n",
    "        position = field.rect\n",
    "        x0, y0, x1, y1 = position\n",
    "        x0 = x0 \n",
    "        y0 = y0+(y1-y0)*3//4\n",
    "        mapping1145[field.field_name] = {'page_index':page_idx, 'key': None, 'position': (x0, y0), 'fill':True}\n",
    "        \n",
    "        all_fields.append(field.field_name)\n",
    "        #print('page: ', page, 'field name: ', field.field_name)\n",
    "        \n",
    "doc.close()"
   ]
  },
  {
   "cell_type": "code",
   "execution_count": 4,
   "id": "580259e7-52fa-4150-b1f4-9ace37619cd2",
   "metadata": {},
   "outputs": [
    {
     "data": {
      "text/plain": [
       "{'form1[0].#pageSet[0].Page1[0].PDF417BarCode1[0]': {'page_index': 0,\n",
       "  'key': None,\n",
       "  'position': (191.99899291992188, 775.0009765625),\n",
       "  'fill': True},\n",
       " 'form1[0].#subform[0].LastName[0]': {'page_index': 0,\n",
       "  'key': None,\n",
       "  'position': (37.39500045776367, 667.906005859375),\n",
       "  'fill': True},\n",
       " 'form1[0].#subform[0].FirstName[0]': {'page_index': 0,\n",
       "  'key': None,\n",
       "  'position': (218.04400634765625, 667.906005859375),\n",
       "  'fill': True},\n",
       " 'form1[0].#subform[0].MiddleName[0]': {'page_index': 0,\n",
       "  'key': None,\n",
       "  'position': (402.0010070800781, 669.8480224609375),\n",
       "  'fill': True},\n",
       " 'form1[0].#subform[0].Email[0]': {'page_index': 0,\n",
       "  'key': None,\n",
       "  'position': (37.39500045776367, 701.2139892578125),\n",
       "  'fill': True},\n",
       " 'form1[0].#subform[0].MobilePhoneNumber[0]': {'page_index': 0,\n",
       "  'key': None,\n",
       "  'position': (345.3479919433594, 701.2139892578125),\n",
       "  'fill': True}}"
      ]
     },
     "execution_count": 4,
     "metadata": {},
     "output_type": "execute_result"
    }
   ],
   "source": [
    "mapping1145"
   ]
  },
  {
   "cell_type": "code",
   "execution_count": 5,
   "id": "0c6a9f0e-5e7d-48db-8b9d-b915b21ae29f",
   "metadata": {},
   "outputs": [],
   "source": [
    "with open(\"mapping1145.json\", 'w', encoding='utf-8') as json_file:\n",
    "    json.dump(mapping1145, json_file, ensure_ascii=False, indent=4)"
   ]
  },
  {
   "cell_type": "code",
   "execution_count": null,
   "id": "34abd596-8385-4cd3-adb0-166a33c0645d",
   "metadata": {},
   "outputs": [],
   "source": []
  },
  {
   "cell_type": "markdown",
   "id": "cd49907a-c3d7-4a1e-8d87-3a408eff74ec",
   "metadata": {
    "tags": []
   },
   "source": [
    "## ETA-9089"
   ]
  },
  {
   "cell_type": "code",
   "execution_count": 6,
   "id": "1a3c41f6-dbaa-4ed0-8b79-d23d5677b348",
   "metadata": {},
   "outputs": [
    {
     "name": "stdout",
     "output_type": "stream",
     "text": [
      "page:  page 0 of ETA-9089-Appendix-A.pdf field name:  1 Enter Foreign Workers Last family Name (55.31999969482422, 158.8800048828125)\n",
      "page:  page 0 of ETA-9089-Appendix-A.pdf field name:  2 Enter Foreign Workers First given Name (55.31999969482422, 184.44000244140625)\n",
      "page:  page 0 of ETA-9089-Appendix-A.pdf field name:  3 Enter Foreign Workers Middle Names (55.31999969482422, 210.1199951171875)\n",
      "page:  page 0 of ETA-9089-Appendix-A.pdf field name:  4 Enter Address 1 current (55.31999969482422, 235.67999267578125)\n",
      "page:  page 0 of ETA-9089-Appendix-A.pdf field name:  5 Enter Address 2 apartment suite floor and number (55.31999969482422, 261.3599853515625)\n",
      "page:  page 0 of ETA-9089-Appendix-A.pdf field name:  6 Enter City (55.31999969482422, 287.03997802734375)\n",
      "page:  page 0 of ETA-9089-Appendix-A.pdf field name:  7 Enter State (343.32000732421875, 287.03997802734375)\n",
      "page:  page 0 of ETA-9089-Appendix-A.pdf field name:  8 Enter Postal Code (434.5199890136719, 287.03997802734375)\n",
      "page:  page 0 of ETA-9089-Appendix-A.pdf field name:  9 Enter Country (55.31999969482422, 312.8399963378906)\n",
      "page:  page 0 of ETA-9089-Appendix-A.pdf field name:  10 Enter Province (343.32000732421875, 312.8399963378906)\n",
      "page:  page 0 of ETA-9089-Appendix-A.pdf field name:  11 Enter Date of Birth mmddyyyy (55.31999969482422, 338.5199890136719)\n",
      "page:  page 0 of ETA-9089-Appendix-A.pdf field name:  12 Enter Class of Admission (226.32000732421875, 338.5199890136719)\n",
      "page:  page 0 of ETA-9089-Appendix-A.pdf field name:  13 Enter Alien Registration Number A if applicable (343.32000732421875, 338.5199890136719)\n",
      "page:  page 0 of ETA-9089-Appendix-A.pdf field name:  14 Enter Country of Birth (55.31999969482422, 364.0799865722656)\n",
      "page:  page 0 of ETA-9089-Appendix-A.pdf field name:  15 Enter Country of Citizenship or Nationality (55.31999969482422, 389.760009765625)\n",
      "page:  page 0 of ETA-9089-Appendix-A.pdf field name:  None (60.119998931884766, 463.3599853515625)\n",
      "page:  page 0 of ETA-9089-Appendix-A.pdf field name:  High SchoolGED (96.95999908447266, 463.3599853515625)\n",
      "page:  page 0 of ETA-9089-Appendix-A.pdf field name:  Associate (182.52000427246094, 463.3599853515625)\n",
      "page:  page 0 of ETA-9089-Appendix-A.pdf field name:  Bachelors (234.24000549316406, 463.3599853515625)\n",
      "page:  page 0 of ETA-9089-Appendix-A.pdf field name:  Masters (291.6000061035156, 463.3599853515625)\n",
      "page:  page 0 of ETA-9089-Appendix-A.pdf field name:  Doctorate PhD (340.55999755859375, 463.3599853515625)\n",
      "page:  page 0 of ETA-9089-Appendix-A.pdf field name:  Other Degree JD MD etc (420.6000061035156, 463.3599853515625)\n",
      "page:  page 0 of ETA-9089-Appendix-A.pdf field name:  1a  Enter If Other Degree in question 1 specify the diploma degree attained (55.439998626708984, 492.0799865722656)\n",
      "page:  page 0 of ETA-9089-Appendix-A.pdf field name:  1b Enter Specify majors andor fields of study may list more than one related major and more than one field (55.439998626708984, 519.9200134277344)\n",
      "page:  page 0 of ETA-9089-Appendix-A.pdf field name:  1c Enter Name of Institution that issued the degree diploma (55.439998626708984, 547.6400146484375)\n",
      "page:  page 0 of ETA-9089-Appendix-A.pdf field name:  1d Enter Name of Country of institution identified in question 1c (55.439998626708984, 575.47998046875)\n",
      "page:  page 0 of ETA-9089-Appendix-A.pdf field name:  1e Enter Month year attained mmyyyy (403.0799865722656, 575.47998046875)\n",
      "page:  page 0 of ETA-9089-Appendix-A.pdf field name:  None_2 (60.119998931884766, 622.239990234375)\n",
      "page:  page 0 of ETA-9089-Appendix-A.pdf field name:  High SchoolGED_2 (96.95999908447266, 622.239990234375)\n",
      "page:  page 0 of ETA-9089-Appendix-A.pdf field name:  Associate_2 (182.52000427246094, 622.239990234375)\n",
      "page:  page 0 of ETA-9089-Appendix-A.pdf field name:  Bachelors_2 (234.24000549316406, 622.239990234375)\n",
      "page:  page 0 of ETA-9089-Appendix-A.pdf field name:  Masters_2 (291.6000061035156, 622.239990234375)\n",
      "page:  page 0 of ETA-9089-Appendix-A.pdf field name:  Doctorate PhD_2 (340.55999755859375, 622.239990234375)\n",
      "page:  page 0 of ETA-9089-Appendix-A.pdf field name:  Other Degree JD MD etc_2 (420.6000061035156, 622.239990234375)\n",
      "page:  page 0 of ETA-9089-Appendix-A.pdf field name:  1a If Other Degree in question 1 specify the diploma degree attained (55.439998626708984, 651.0800170898438)\n",
      "page:  page 0 of ETA-9089-Appendix-A.pdf field name:  1b Enter Specify majors and or fields of study may list more than one related major and more than one field (55.439998626708984, 678.9199829101562)\n",
      "page:  page 0 of ETA-9089-Appendix-A.pdf field name:  1c Enter Name of Institution that issued the degree diploma (55.439998626708984, 706.760009765625)\n",
      "page:  page 0 of ETA-9089-Appendix-A.pdf field name:  1d Enter Name of Country of Institution identified in question 1c (55.439998626708984, 734.47998046875)\n",
      "page:  page 0 of ETA-9089-Appendix-A.pdf field name:  1e Enter Month year attained mmyyyy (403.0799865722656, 738.47998046875)\n",
      "page:  page 1 of ETA-9089-Appendix-A.pdf field name:  None_3 (60.119998931884766, 161.08001708984375)\n",
      "page:  page 1 of ETA-9089-Appendix-A.pdf field name:  High SchoolGED_3 (96.95999908447266, 161.08001708984375)\n",
      "page:  page 1 of ETA-9089-Appendix-A.pdf field name:  Associate_3 (182.52000427246094, 161.08001708984375)\n",
      "page:  page 1 of ETA-9089-Appendix-A.pdf field name:  Bachelors_3 (234.24000549316406, 161.08001708984375)\n",
      "page:  page 1 of ETA-9089-Appendix-A.pdf field name:  Masters_3 (291.6000061035156, 161.08001708984375)\n",
      "page:  page 1 of ETA-9089-Appendix-A.pdf field name:  Doctorate PhD_3 (340.67999267578125, 161.08001708984375)\n",
      "page:  page 1 of ETA-9089-Appendix-A.pdf field name:  Other Degree JD MD etc_3 (420.7200012207031, 161.08001708984375)\n",
      "page:  page 1 of ETA-9089-Appendix-A.pdf field name:  1a If Other Degree in question 1 specify the diplomadegree attained_3 (55.439998626708984, 190.91998291015625)\n",
      "page:  page 1 of ETA-9089-Appendix-A.pdf field name:  1b Enter Specify majors and or fields of study may list more than one related major and more than one field_3 (55.439998626708984, 220.20001220703125)\n",
      "page:  page 1 of ETA-9089-Appendix-A.pdf field name:  1c Enter Name of Institution that issued the degree diploma_3 (55.439998626708984, 249.47998046875)\n",
      "page:  page 1 of ETA-9089-Appendix-A.pdf field name:  1d Enter Name of Country of Institution identified in question 1c_2 (55.439998626708984, 278.6400146484375)\n",
      "page:  page 1 of ETA-9089-Appendix-A.pdf field name:  1e Enter Month year attained mmyyyy_3 (403.0799865722656, 278.6400146484375)\n",
      "page:  page 1 of ETA-9089-Appendix-A.pdf field name:  None_4 (60.119998931884766, 325.8399963378906)\n",
      "page:  page 1 of ETA-9089-Appendix-A.pdf field name:  High SchoolGED_4 (96.95999908447266, 325.8399963378906)\n",
      "page:  page 1 of ETA-9089-Appendix-A.pdf field name:  Associates (182.39999389648438, 325.8399963378906)\n",
      "page:  page 1 of ETA-9089-Appendix-A.pdf field name:  Bachelors_4 (243.1199951171875, 325.8399963378906)\n",
      "page:  page 1 of ETA-9089-Appendix-A.pdf field name:  Masters_4 (300.3599853515625, 325.8399963378906)\n",
      "page:  page 1 of ETA-9089-Appendix-A.pdf field name:  Doctorate PhD_4 (349.44000244140625, 325.8399963378906)\n",
      "page:  page 1 of ETA-9089-Appendix-A.pdf field name:  Other Degree JD MD etc_4 (429.7200012207031, 325.8399963378906)\n",
      "page:  page 1 of ETA-9089-Appendix-A.pdf field name:  1a If Other Degree in question 1 specify the diplomadegree attained_4 (55.439998626708984, 355.55999755859375)\n",
      "page:  page 1 of ETA-9089-Appendix-A.pdf field name:  1b Enter Specify majors and or fields of study may list more than one related major and more than one field_4 (55.439998626708984, 384.8399963378906)\n",
      "page:  page 1 of ETA-9089-Appendix-A.pdf field name:  1c Enter Name of Institution that issued the degree diploma_4 (55.439998626708984, 414.1199951171875)\n",
      "page:  page 1 of ETA-9089-Appendix-A.pdf field name:  1d Enter Name of Country of Institution identified in question 1c_3 (55.439998626708984, 443.3999938964844)\n",
      "page:  page 1 of ETA-9089-Appendix-A.pdf field name:  1e Enter Month year attained mmyyyy_4 (403.0799865722656, 443.3999938964844)\n",
      "page:  page 1 of ETA-9089-Appendix-A.pdf field name:  None_5 (60.119998931884766, 490.4800109863281)\n",
      "page:  page 1 of ETA-9089-Appendix-A.pdf field name:  High SchoolGED_5 (96.83999633789062, 490.4800109863281)\n",
      "page:  page 1 of ETA-9089-Appendix-A.pdf field name:  Associates_2 (182.27999877929688, 490.4800109863281)\n",
      "page:  page 1 of ETA-9089-Appendix-A.pdf field name:  Bachelors_5 (243.0, 490.4800109863281)\n",
      "page:  page 1 of ETA-9089-Appendix-A.pdf field name:  Masters_5 (300.239990234375, 490.4800109863281)\n",
      "page:  page 1 of ETA-9089-Appendix-A.pdf field name:  Doctorate PhD_5 (349.32000732421875, 490.4800109863281)\n",
      "page:  page 1 of ETA-9089-Appendix-A.pdf field name:  Other Degree JD MD etc_5 (429.6000061035156, 490.4800109863281)\n",
      "page:  page 1 of ETA-9089-Appendix-A.pdf field name:  1a If Other Degree in question 1 specify the diploma degree attained_5 (55.439998626708984, 520.4400024414062)\n",
      "page:  page 1 of ETA-9089-Appendix-A.pdf field name:  1b Enter Specify majors andor fields of study may list more than one related major and more than one field_5 (55.439998626708984, 549.5999755859375)\n",
      "page:  page 1 of ETA-9089-Appendix-A.pdf field name:  1c Enter Name of Institution that issued the degree diploma_5 (55.439998626708984, 579.1199951171875)\n",
      "page:  page 1 of ETA-9089-Appendix-A.pdf field name:  1e Enter Month year attained mmyyyy_5 (403.0799865722656, 608.280029296875)\n",
      "page:  page 1 of ETA-9089-Appendix-A.pdf field name:  1 Enter Name of Institution School Training provider (55.439998626708984, 684.239990234375)\n",
      "page:  page 1 of ETA-9089-Appendix-A.pdf field name:  1a Enter Name of training coursework experience received (55.68000030517578, 721.9199829101562)\n",
      "page:  page 1 of ETA-9089-Appendix-A.pdf field name:  1d Enter Name of Country of Institution identified in question 1c_4 (55.439998626708984, 608.280029296875)\n",
      "page:  page 2 of ETA-9089-Appendix-A.pdf field name:  1b TrainingCertificationslicenses attained if applicable (55.91999816894531, 147.47998046875)\n",
      "page:  page 2 of ETA-9089-Appendix-A.pdf field name:  1c Enter Start date of training mmyyyy (55.439998626708984, 183.3599853515625)\n",
      "page:  page 2 of ETA-9089-Appendix-A.pdf field name:  1d Enter End date of training mmyyyy (226.44000244140625, 183.3599853515625)\n",
      "page:  page 2 of ETA-9089-Appendix-A.pdf field name:  1e Enter Monthyear awarded mmyyyy (402.0, 183.3599853515625)\n",
      "page:  page 2 of ETA-9089-Appendix-A.pdf field name:  1 Enter Name of InstitutionSchoolTraining provider_2 (55.439998626708984, 232.67999267578125)\n",
      "page:  page 2 of ETA-9089-Appendix-A.pdf field name:  1a Enter Name of training coursework experience received_2 (55.68000030517578, 270.239990234375)\n",
      "page:  page 2 of ETA-9089-Appendix-A.pdf field name:  1a Enter Name of training coursework experience received_2 (55.91999816894531, 320.3999938964844)\n",
      "page:  page 2 of ETA-9089-Appendix-A.pdf field name:  1c Enter Start date of training mmyyyy_2 (55.439998626708984, 356.6400146484375)\n",
      "page:  page 2 of ETA-9089-Appendix-A.pdf field name:  1d Enter End date of training mmyyyy_2 (226.44000244140625, 356.6400146484375)\n",
      "page:  page 2 of ETA-9089-Appendix-A.pdf field name:  1e Enter Monthyear awarded mmyyyy_2 (402.0, 356.6400146484375)\n",
      "page:  page 2 of ETA-9089-Appendix-A.pdf field name:  1 Enter Name of InstitutionSchoolTraining provider_3 (55.439998626708984, 410.5199890136719)\n",
      "page:  page 2 of ETA-9089-Appendix-A.pdf field name:  1a Enter Name of training coursework experience received_3 (55.68000030517578, 448.0799865722656)\n",
      "page:  page 2 of ETA-9089-Appendix-A.pdf field name:  1b Enter Trainingcertificationslicenses attained if applicable (55.91999816894531, 498.239990234375)\n",
      "page:  page 2 of ETA-9089-Appendix-A.pdf field name:  1c Start date of training mmyyyy_3 (55.439998626708984, 534.47998046875)\n",
      "page:  page 2 of ETA-9089-Appendix-A.pdf field name:  1d End date of training mmyyyy_3 (226.44000244140625, 534.47998046875)\n",
      "page:  page 2 of ETA-9089-Appendix-A.pdf field name:  1e Monthyear awarded mmyyyy_3 (402.0, 534.47998046875)\n",
      "page:  page 2 of ETA-9089-Appendix-A.pdf field name:  1 Name of EmployerInstitutionSchoolTraining Provider (55.439998626708984, 615.5999755859375)\n",
      "page:  page 2 of ETA-9089-Appendix-A.pdf field name:  1a Enter Country (55.439998626708984, 644.760009765625)\n",
      "page:  page 2 of ETA-9089-Appendix-A.pdf field name:  1b Enter State Territory or Province (312.0, 644.760009765625)\n",
      "page:  page 2 of ETA-9089-Appendix-A.pdf field name:  1c Enter Description of specific skills abilities andor proficiencies the foreign worker possesses or attained which help establish whether the foreign worker meets the requirements identified for the job opportunity up to 1500 characters (55.91999816894531, 724.9600219726562)\n",
      "page:  page 3 of ETA-9089-Appendix-A.pdf field name:  1 Enter Name of EmployerInstitutionSchoolTraining Provider_2 (55.439998626708984, 209.52001953125)\n",
      "page:  page 3 of ETA-9089-Appendix-A.pdf field name:  1a Enter Country_2 (55.439998626708984, 238.79998779296875)\n",
      "page:  page 3 of ETA-9089-Appendix-A.pdf field name:  1b Enter State Territory or Province_2 (312.0, 238.79998779296875)\n",
      "page:  page 3 of ETA-9089-Appendix-A.pdf field name:  1 Employer Name (55.439998626708984, 549.239990234375)\n",
      "page:  page 3 of ETA-9089-Appendix-A.pdf field name:  1a Address 1 (55.439998626708984, 578.760009765625)\n",
      "page:  page 3 of ETA-9089-Appendix-A.pdf field name:  1b Address 2 (55.439998626708984, 607.9199829101562)\n",
      "page:  page 3 of ETA-9089-Appendix-A.pdf field name:  1c City or Town (55.439998626708984, 637.2000122070312)\n",
      "page:  page 3 of ETA-9089-Appendix-A.pdf field name:  1d Postal Code (429.6000061035156, 637.2000122070312)\n",
      "page:  page 3 of ETA-9089-Appendix-A.pdf field name:  1e Country (55.439998626708984, 666.3599853515625)\n",
      "page:  page 3 of ETA-9089-Appendix-A.pdf field name:  1f State Territory or Province (312.0, 666.3599853515625)\n",
      "page:  page 3 of ETA-9089-Appendix-A.pdf field name:  1g Job Title (55.439998626708984, 695.6400146484375)\n",
      "page:  page 3 of ETA-9089-Appendix-A.pdf field name:  1h Start Date mmyyyy (55.560001373291016, 726.0399780273438)\n",
      "page:  page 3 of ETA-9089-Appendix-A.pdf field name:  1i End Date mmyyyy (204.1199951171875, 726.0399780273438)\n",
      "page:  page 3 of ETA-9089-Appendix-A.pdf field name:  1j Present (367.55999755859375, 722.6799926757812)\n",
      "page:  page 3 of ETA-9089-Appendix-A.pdf field name:  1j Present (398.3999938964844, 722.6799926757812)\n",
      "page:  page 3 of ETA-9089-Appendix-A.pdf field name:  1k Hours Worked Per Week (429.7200012207031, 726.0399780273438)\n",
      "page:  page 3 of ETA-9089-Appendix-A.pdf field name:  b (53.66740036010742, 150.98199462890625)\n",
      "page:  page 3 of ETA-9089-Appendix-A.pdf field name:  1c. Enter Description of specific skills, abilities, and/or proficiencies the foreign worker possesses or attained, which help establish whether the foreign worker meets the requirements identified for the job opportunity (up to 1,500 characters) (53.216400146484375, 420.17999267578125)\n",
      "page:  page 4 of ETA-9089-Appendix-A.pdf field name:  1l Job Duties Specify details of the job work tasks performed use of toolsequipment supervision etc up to 3500 characters (55.79999923706055, 396.55999755859375)\n"
     ]
    }
   ],
   "source": [
    "# Load the PDF\n",
    "mapping9089 = {}\n",
    "\n",
    "pdf_path = \"ETA-9089-Appendix-A.pdf\"\n",
    "doc = fitz.open(pdf_path)\n",
    "\n",
    "all_fields = []\n",
    "for page_idx, page in enumerate(doc):\n",
    "    # Get all form fields (widgets) on this page\n",
    "    fields = page.widgets()\n",
    "    \n",
    "    # Append field names to the all_fields list\n",
    "    for field in fields:\n",
    "        position = field.rect\n",
    "        x0, y0, x1, y1 = position\n",
    "        x0 = x0 \n",
    "        y0 = y0+(y1-y0)*3//4\n",
    "        mapping9089[field.field_name] = {'page_index':page_idx, 'key': None, 'position': (x0, y0), 'fill':True}\n",
    "        \n",
    "        all_fields.append(field.field_name)\n",
    "        print('page: ', page, 'field name: ', field.field_name, (x0, y0))\n",
    "        \n",
    "doc.close()"
   ]
  },
  {
   "cell_type": "code",
   "execution_count": 7,
   "id": "8dbb4db3-68ca-44a3-834e-bd189de5df4a",
   "metadata": {},
   "outputs": [],
   "source": [
    "with open(\"mapping9089.json\", 'w', encoding='utf-8') as json_file:\n",
    "    json.dump(mapping9089, json_file, ensure_ascii=False, indent=4)"
   ]
  },
  {
   "cell_type": "code",
   "execution_count": 8,
   "id": "1099bb40-1a67-464f-951a-69c4e89b98b2",
   "metadata": {},
   "outputs": [],
   "source": [
    "#mapping9089"
   ]
  },
  {
   "cell_type": "code",
   "execution_count": null,
   "id": "8862c054-ed83-486c-bfea-a54e61a3d8dd",
   "metadata": {},
   "outputs": [],
   "source": []
  },
  {
   "cell_type": "markdown",
   "id": "af9cfe31-c6c4-437c-bd7a-e25f7013e524",
   "metadata": {
    "jp-MarkdownHeadingCollapsed": true,
    "tags": []
   },
   "source": [
    "## i-140"
   ]
  },
  {
   "cell_type": "code",
   "execution_count": null,
   "id": "8c31bbb8-24c9-4748-be69-9fe06d4e5979",
   "metadata": {},
   "outputs": [],
   "source": []
  },
  {
   "cell_type": "code",
   "execution_count": 8,
   "id": "7a255a8a-210c-4a96-a141-0b160b819e12",
   "metadata": {},
   "outputs": [
    {
     "name": "stdout",
     "output_type": "stream",
     "text": [
      "page:  page 0 of i-140.pdf field name:  form1[0].#pageSet[0].Page1[0].PDF417BarCode1[0] (192, 775)\n",
      "page:  page 0 of i-140.pdf field name:  form1[0].#subform[0].Pt1Line1a_FamilyName[0] (120, 409)\n",
      "page:  page 0 of i-140.pdf field name:  form1[0].#subform[0].Pt1Line1b_GivenName[0] (120, 433)\n",
      "page:  page 0 of i-140.pdf field name:  form1[0].#subform[0].Pt1Line1c_MiddleName[0] (120, 457)\n",
      "page:  page 0 of i-140.pdf field name:  form1[0].#subform[0].Line2_CompanyName[0] (60, 493)\n",
      "page:  page 0 of i-140.pdf field name:  form1[0].#subform[0].G28CheckBox[0] (163, 260)\n",
      "page:  page 0 of i-140.pdf field name:  form1[0].#subform[0].attyStateBarNumber[0] (264, 289)\n",
      "page:  page 0 of i-140.pdf field name:  form1[0].#subform[0].attyUSCISOnlineNum[0] (396, 289)\n",
      "page:  page 0 of i-140.pdf field name:  form1[0].#subform[0].#area[1].Pt1Line8_USCISOnlineActNumber[0] (402, 547)\n",
      "page:  page 0 of i-140.pdf field name:  form1[0].#subform[0].Pt1Line3_TaxNumber[0] (447, 367)\n",
      "page:  page 0 of i-140.pdf field name:  form1[0].#subform[0].Line7_SSN[0] (447, 511)\n",
      "page:  page 0 of i-140.pdf field name:  form1[0].#subform[0].Line6a_InCareofName[0] (60, 559)\n",
      "page:  page 0 of i-140.pdf field name:  form1[0].#subform[0].Line6b_StreetNumberName[0] (120, 583)\n",
      "page:  page 0 of i-140.pdf field name:  form1[0].#subform[0].Line6c_AptSteFlrNumber[0] (186, 607)\n",
      "page:  page 0 of i-140.pdf field name:  form1[0].#subform[0].Line6d_CityOrTown[0] (120, 631)\n",
      "page:  page 0 of i-140.pdf field name:  form1[0].#subform[0].Line6g_PostalCode[0] (114, 703)\n",
      "page:  page 0 of i-140.pdf field name:  form1[0].#subform[0].Line6i_Country[0] (60, 739)\n",
      "page:  page 0 of i-140.pdf field name:  form1[0].#subform[0].Line6e_State[0] (84, 655)\n",
      "page:  page 0 of i-140.pdf field name:  form1[0].#subform[0].Line6f_ZipCode[0] (192, 655)\n",
      "page:  page 0 of i-140.pdf field name:  form1[0].#subform[0].Line6c_Unit[0] (102, 605)\n",
      "page:  page 0 of i-140.pdf field name:  form1[0].#subform[0].Line6c_Unit[1] (144, 605)\n",
      "page:  page 0 of i-140.pdf field name:  form1[0].#subform[0].Line6c_Unit[2] (60, 605)\n",
      "page:  page 0 of i-140.pdf field name:  form1[0].#subform[0].Line6h_Province[0] (114, 679)\n",
      "page:  page 0 of i-140.pdf field name:  form1[0].#subform[0].prt2PetitionType[0] (343, 716)\n",
      "page:  page 0 of i-140.pdf field name:  form1[0].#subform[0].prt2PetitionType[1] (343, 620)\n",
      "page:  page 0 of i-140.pdf field name:  form1[0].#subform[0].prt2PetitionType[2] (343, 638)\n",
      "page:  page 0 of i-140.pdf field name:  form1[0].#subform[0].prt2PetitionType[3] (343, 656)\n",
      "page:  page 0 of i-140.pdf field name:  form1[0].#subform[0].prt2PetitionType[4] (343, 674)\n",
      "page:  page 0 of i-140.pdf field name:  form1[0].#subform[0].P1_Line5_Checkbox[0] (542, 386)\n",
      "page:  page 0 of i-140.pdf field name:  form1[0].#subform[0].P1_Line5_Checkbox[1] (500, 386)\n",
      "page:  page 0 of i-140.pdf field name:  form1[0].#subform[0].P1_Line6_Checkbox[0] (542, 428)\n",
      "page:  page 0 of i-140.pdf field name:  form1[0].#subform[0].P1_Line6_Checkbox[1] (500, 428)\n",
      "page:  page 0 of i-140.pdf field name:  form1[0].#subform[0].Button1[0] (192, 523)\n",
      "page:  page 1 of i-140.pdf field name:  form1[0].#pageSet[0].Page1[1].PDF417BarCode1[0] (192, 775)\n",
      "page:  page 1 of i-140.pdf field name:  form1[0].#subform[1].Line2_Petition[0] (61, 206)\n",
      "page:  page 1 of i-140.pdf field name:  form1[0].#subform[1].Line2_Petition[1] (61, 260)\n",
      "page:  page 1 of i-140.pdf field name:  form1[0].#subform[1].Line2aReceipt[0].Line2a_ReceiptNumber[0] (96, 241)\n",
      "page:  page 1 of i-140.pdf field name:  form1[0].#subform[1].Pt3Line1a_FamilyName[0] (120, 325)\n",
      "page:  page 1 of i-140.pdf field name:  form1[0].#subform[1].Pt3Line1b_GivenName[0] (120, 349)\n",
      "page:  page 1 of i-140.pdf field name:  form1[0].#subform[1].Pt3Line1c_MiddleName[0] (120, 373)\n",
      "page:  page 1 of i-140.pdf field name:  form1[0].#subform[1].Line2b_StreetNumberName[0] (120, 463)\n",
      "page:  page 1 of i-140.pdf field name:  form1[0].#subform[1].Line2c_AptSteFlrNumber[0] (186, 487)\n",
      "page:  page 1 of i-140.pdf field name:  form1[0].#subform[1].Line2d_CityOrTown[0] (120, 511)\n",
      "page:  page 1 of i-140.pdf field name:  form1[0].#subform[1].Line2h_Province[0] (114, 559)\n",
      "page:  page 1 of i-140.pdf field name:  form1[0].#subform[1].Line2i_Country[0] (60, 619)\n",
      "page:  page 1 of i-140.pdf field name:  form1[0].#subform[1].Line2e_State[0] (84, 535)\n",
      "page:  page 1 of i-140.pdf field name:  form1[0].#subform[1].Line2f_ZipCode[0] (192, 535)\n",
      "page:  page 1 of i-140.pdf field name:  form1[0].#subform[1].Line2a_InCareofName[0] (60, 439)\n",
      "page:  page 1 of i-140.pdf field name:  form1[0].#subform[1].Line2c_Unit[0] (102, 485)\n",
      "page:  page 1 of i-140.pdf field name:  form1[0].#subform[1].Line2c_Unit[1] (144, 485)\n",
      "page:  page 1 of i-140.pdf field name:  form1[0].#subform[1].Line2c_Unit[2] (60, 485)\n",
      "page:  page 1 of i-140.pdf field name:  form1[0].#subform[1].Line2g_PostalCode[0] (114, 583)\n",
      "page:  page 1 of i-140.pdf field name:  form1[0].#subform[1].Line5_DateOfBirth[0] (210, 673)\n",
      "page:  page 1 of i-140.pdf field name:  form1[0].#subform[1].Line6_CityTownOfBirth[0] (60, 709)\n",
      "page:  page 1 of i-140.pdf field name:  form1[0].#subform[1].Line8_Country[0] (342, 79)\n",
      "page:  page 1 of i-140.pdf field name:  form1[0].#subform[1].Line9_Country[0] (342, 115)\n",
      "page:  page 1 of i-140.pdf field name:  form1[0].#subform[1].Line11_Alien[0].Pt3Line8_AlienNumber[0] (447, 151)\n",
      "page:  page 1 of i-140.pdf field name:  form1[0].#subform[1].Line12_SSN[0] (447, 175)\n",
      "page:  page 1 of i-140.pdf field name:  form1[0].#subform[1].Line13_DateOArrival[0] (492, 271)\n",
      "page:  page 1 of i-140.pdf field name:  form1[0].#subform[1].Line14_I94Number[0].Line14a_ArrivalDeparture[0] (415, 307)\n",
      "page:  page 1 of i-140.pdf field name:  form1[0].#subform[1].Line14b_Passport[0] (342, 427)\n",
      "page:  page 1 of i-140.pdf field name:  form1[0].#subform[1].Line14c_TravelDoc[0] (342, 463)\n",
      "page:  page 1 of i-140.pdf field name:  form1[0].#subform[1].Line14d_CountryOfIssuance[0] (342, 499)\n",
      "page:  page 1 of i-140.pdf field name:  form1[0].#subform[1].Line14e_ExpDate[0] (492, 535)\n",
      "page:  page 1 of i-140.pdf field name:  form1[0].#subform[1].Line14e_ExpDate[1] (492, 343)\n",
      "page:  page 1 of i-140.pdf field name:  form1[0].#subform[1].Line15_CurrentNon[0] (342, 391)\n",
      "page:  page 1 of i-140.pdf field name:  form1[0].#subform[1].Line1a_Visa[0] (343, 614)\n",
      "page:  page 1 of i-140.pdf field name:  form1[0].#subform[1].Line1a_CityorTown[0] (342, 661)\n",
      "page:  page 1 of i-140.pdf field name:  form1[0].#subform[1].Line1a_Country[0] (342, 697)\n",
      "page:  page 1 of i-140.pdf field name:  form1[0].#subform[1].Line7_StateProvinceOfBirth[0] (60, 745)\n",
      "page:  page 1 of i-140.pdf field name:  form1[0].#subform[1].Line1b_Status[0] (343, 716)\n",
      "page:  page 1 of i-140.pdf field name:  form1[0].#subform[1].prt2PetitionType[5] (61, 116)\n",
      "page:  page 1 of i-140.pdf field name:  form1[0].#subform[1].prt2PetitionType[6] (61, 146)\n",
      "page:  page 1 of i-140.pdf field name:  form1[0].#subform[1].prt2PetitionType[7] (61, 86)\n",
      "page:  page 2 of i-140.pdf field name:  form1[0].#pageSet[0].Page1[2].PDF417BarCode1[0] (192, 775)\n",
      "page:  page 2 of i-140.pdf field name:  form1[0].#subform[2].Line1b_Country[0] (60, 115)\n",
      "page:  page 2 of i-140.pdf field name:  form1[0].#subform[2].Line2a_StreetNumberName[0] (120, 169)\n",
      "page:  page 2 of i-140.pdf field name:  form1[0].#subform[2].Line2b_AptSteFlrNumber[0] (186, 193)\n",
      "page:  page 2 of i-140.pdf field name:  form1[0].#subform[2].Line2c_CityOrTown[0] (120, 217)\n",
      "page:  page 2 of i-140.pdf field name:  form1[0].#subform[2].Line2e_Province[0] (114, 241)\n",
      "page:  page 2 of i-140.pdf field name:  form1[0].#subform[2].Line2f_Country[0] (60, 301)\n",
      "page:  page 2 of i-140.pdf field name:  form1[0].#subform[2].Line2d_PostalCode[0] (114, 265)\n",
      "page:  page 2 of i-140.pdf field name:  form1[0].#subform[2].Line2b_Unit[0] (102, 191)\n",
      "page:  page 2 of i-140.pdf field name:  form1[0].#subform[2].Line2b_Unit[1] (144, 191)\n",
      "page:  page 2 of i-140.pdf field name:  form1[0].#subform[2].Line2b_Unit[2] (60, 191)\n",
      "page:  page 2 of i-140.pdf field name:  form1[0].#subform[2].Line3c_MiddleName2[0] (120, 415)\n",
      "page:  page 2 of i-140.pdf field name:  form1[0].#subform[2].Line3b_GivenName2[0] (120, 391)\n",
      "page:  page 2 of i-140.pdf field name:  form1[0].#subform[2].Line3a_FamilyName2[0] (120, 367)\n",
      "page:  page 2 of i-140.pdf field name:  form1[0].#subform[2].Line3d_StreetNumberName[0] (120, 505)\n",
      "page:  page 2 of i-140.pdf field name:  form1[0].#subform[2].Line3e_AptSteFlrNumber[0] (186, 529)\n",
      "page:  page 2 of i-140.pdf field name:  form1[0].#subform[2].Line3f_CityOrTown[0] (120, 553)\n",
      "page:  page 2 of i-140.pdf field name:  form1[0].#subform[2].Line3g_PostalCode[0] (114, 601)\n",
      "page:  page 2 of i-140.pdf field name:  form1[0].#subform[2].Line3i_Country[0] (60, 637)\n",
      "page:  page 2 of i-140.pdf field name:  form1[0].#subform[2].Line3h_Province[0] (114, 577)\n",
      "page:  page 2 of i-140.pdf field name:  form1[0].#subform[2].Line3e_Unit[0] (102, 527)\n",
      "page:  page 2 of i-140.pdf field name:  form1[0].#subform[2].Line3e_Unit[1] (144, 527)\n",
      "page:  page 2 of i-140.pdf field name:  form1[0].#subform[2].Line3e_Unit[2] (60, 527)\n",
      "page:  page 2 of i-140.pdf field name:  form1[0].#subform[2].Line2a_InCareofName[1] (60, 481)\n",
      "page:  page 2 of i-140.pdf field name:  form1[0].#subform[2].Line4_Form485[0] (343, 92)\n",
      "page:  page 2 of i-140.pdf field name:  form1[0].#subform[2].Line4_Form131[0] (343, 110)\n",
      "page:  page 2 of i-140.pdf field name:  form1[0].#subform[2].Line4_Form765[0] (343, 128)\n",
      "page:  page 2 of i-140.pdf field name:  form1[0].#subform[2].Line4_OtherAttach[0] (343, 146)\n",
      "page:  page 2 of i-140.pdf field name:  form1[0].#subform[2].Line7_Yes[0] (500, 272)\n",
      "page:  page 2 of i-140.pdf field name:  form1[0].#subform[2].Line7_No[0] (542, 272)\n",
      "page:  page 2 of i-140.pdf field name:  form1[0].#subform[2].Line5_No[0] (542, 188)\n",
      "page:  page 2 of i-140.pdf field name:  form1[0].#subform[2].Line5_Yes[0] (500, 188)\n",
      "page:  page 2 of i-140.pdf field name:  form1[0].#subform[2].Line6_No[0] (542, 218)\n",
      "page:  page 2 of i-140.pdf field name:  form1[0].#subform[2].Line6_Yes[0] (500, 218)\n",
      "page:  page 2 of i-140.pdf field name:  form1[0].#subform[2].Line8_Yes[0] (500, 338)\n",
      "page:  page 2 of i-140.pdf field name:  form1[0].#subform[2].Line8_No[0] (542, 338)\n",
      "page:  page 2 of i-140.pdf field name:  form1[0].#subform[2].Line1a_Employer[0] (343, 416)\n",
      "page:  page 2 of i-140.pdf field name:  form1[0].#subform[2].Line1b_Self[0] (343, 434)\n",
      "page:  page 2 of i-140.pdf field name:  form1[0].#subform[2].Line1c_Other[0] (343, 452)\n",
      "page:  page 2 of i-140.pdf field name:  form1[0].#subform[2].Line1c_Explain[0] (360, 493)\n",
      "page:  page 2 of i-140.pdf field name:  form1[0].#subform[2].Line2a_TypeofBusiness[0] (342, 559)\n",
      "page:  page 2 of i-140.pdf field name:  form1[0].#subform[2].Line2b_DateEstablished[0] (492, 583)\n",
      "page:  page 2 of i-140.pdf field name:  form1[0].#subform[2].Line2c_NumberofEmployees[0] (498, 607)\n",
      "page:  page 2 of i-140.pdf field name:  form1[0].#subform[2].Line2d_GrossAnnualIncome[0] (450, 631)\n",
      "page:  page 2 of i-140.pdf field name:  form1[0].#subform[2].Line2e_NetAnnualIncome[0] (450, 655)\n",
      "page:  page 2 of i-140.pdf field name:  form1[0].#subform[2].Line4_Yes[0] (218, 722)\n",
      "page:  page 2 of i-140.pdf field name:  form1[0].#subform[2].Line4_No[0] (260, 722)\n",
      "page:  page 2 of i-140.pdf field name:  form1[0].#subform[2].Line2g_LaborCertification[0] (342, 715)\n",
      "page:  page 2 of i-140.pdf field name:  form1[0].#subform[2].Line2f[0].Line2f_NAICSCode[0] (488, 679)\n",
      "page:  page 3 of i-140.pdf field name:  form1[0].#pageSet[0].Page1[3].PDF417BarCode1[0] (192, 775)\n",
      "page:  page 3 of i-140.pdf field name:  form1[0].#subform[3].Line2i_LaborCertificationDate[0] (210, 151)\n",
      "page:  page 3 of i-140.pdf field name:  form1[0].#subform[3].Line3b_AnnualIncome[0] (168, 241)\n",
      "page:  page 3 of i-140.pdf field name:  form1[0].#subform[3].Line3a_Occupation[0] (60, 217)\n",
      "page:  page 3 of i-140.pdf field name:  form1[0].#subform[3].Line2_SOCCode1[0] (192, 343)\n",
      "page:  page 3 of i-140.pdf field name:  form1[0].#subform[3].Line2_SOCCode2[0] (234, 343)\n",
      "page:  page 3 of i-140.pdf field name:  form1[0].#subform[3].Line1_JobTitle[0] (60, 319)\n",
      "page:  page 3 of i-140.pdf field name:  form1[0].#subform[3].Line3_JobDescription[0] (60, 421)\n",
      "page:  page 3 of i-140.pdf field name:  form1[0].#subform[3].Line5_Hours[0] (60, 499)\n",
      "page:  page 3 of i-140.pdf field name:  form1[0].#subform[3].Line4_No1[0] (260, 451)\n",
      "page:  page 3 of i-140.pdf field name:  form1[0].#subform[3].Line4_Yes1[0] (218, 451)\n",
      "page:  page 3 of i-140.pdf field name:  form1[0].#subform[3].Line7_No1[0] (260, 536)\n",
      "page:  page 3 of i-140.pdf field name:  form1[0].#subform[3].Line7_Yes1[0] (218, 536)\n",
      "page:  page 3 of i-140.pdf field name:  form1[0].#subform[3].Line6_No1[0] (260, 518)\n",
      "page:  page 3 of i-140.pdf field name:  form1[0].#subform[3].Line6_Yes1[0] (218, 518)\n",
      "page:  page 3 of i-140.pdf field name:  form1[0].#subform[3].Line1c_Person1MiddleName[0] (402, 259)\n",
      "page:  page 3 of i-140.pdf field name:  form1[0].#subform[3].Line1b_Person1GivenName[0] (402, 235)\n",
      "page:  page 3 of i-140.pdf field name:  form1[0].#subform[3].Line1a_Person1FamilyName[0] (402, 211)\n",
      "page:  page 3 of i-140.pdf field name:  form1[0].#subform[3].Line1d_Person1DateOfBirth[0] (492, 283)\n",
      "page:  page 3 of i-140.pdf field name:  form1[0].#subform[3].Line1e_CountryOfBirth[0] (342, 319)\n",
      "page:  page 3 of i-140.pdf field name:  form1[0].#subform[3].Line1f_Relationship[0] (402, 343)\n",
      "page:  page 3 of i-140.pdf field name:  form1[0].#subform[3].Pt7ItemNumber5_CheckboxYes[0] (500, 374)\n",
      "page:  page 3 of i-140.pdf field name:  form1[0].#subform[3].Pt7ItemNumber5_CheckboxNo[0] (542, 374)\n",
      "page:  page 3 of i-140.pdf field name:  form1[0].#subform[3].Line8_Wages[0] (72, 571)\n",
      "page:  page 3 of i-140.pdf field name:  form1[0].#subform[3].Line8_Per[0] (174, 571)\n",
      "page:  page 3 of i-140.pdf field name:  form1[0].#subform[3].Line2h_LaborCertification[0] (210, 115)\n",
      "page:  page 3 of i-140.pdf field name:  form1[0].#subform[3].Line9a_StreetNumberName[0] (120, 655)\n",
      "page:  page 3 of i-140.pdf field name:  form1[0].#subform[3].Line9b_AptSteFlrNumber[0] (186, 679)\n",
      "page:  page 3 of i-140.pdf field name:  form1[0].#subform[3].Line9c_CityOrTown[0] (120, 703)\n",
      "page:  page 3 of i-140.pdf field name:  form1[0].#subform[3].Line9d_State[0] (86, 727)\n",
      "page:  page 3 of i-140.pdf field name:  form1[0].#subform[3].Line9e_ZipCode[0] (192, 727)\n",
      "page:  page 3 of i-140.pdf field name:  form1[0].#subform[3].Line9b_Unit[0] (102, 677)\n",
      "page:  page 3 of i-140.pdf field name:  form1[0].#subform[3].Line9b_Unit[1] (144, 677)\n",
      "page:  page 3 of i-140.pdf field name:  form1[0].#subform[3].Line9b_Unit[2] (60, 677)\n",
      "page:  page 3 of i-140.pdf field name:  form1[0].#subform[3].Line2f_Relationship[0] (402, 583)\n",
      "page:  page 3 of i-140.pdf field name:  form1[0].#subform[3].Line2c_Person2MiddleName[0] (402, 499)\n",
      "page:  page 3 of i-140.pdf field name:  form1[0].#subform[3].Line2b_Person2GivenName[0] (402, 475)\n",
      "page:  page 3 of i-140.pdf field name:  form1[0].#subform[3].Line2a_Person2FamilyName[0] (402, 451)\n",
      "page:  page 3 of i-140.pdf field name:  form1[0].#subform[3].Line2d_DateOfBirth[0] (492, 523)\n",
      "page:  page 3 of i-140.pdf field name:  form1[0].#subform[3].Line2e_CountryOfBirth[0] (342, 559)\n",
      "page:  page 3 of i-140.pdf field name:  form1[0].#subform[3].Pt7ItemNumber6_CheckboxYes[0] (500, 404)\n",
      "page:  page 3 of i-140.pdf field name:  form1[0].#subform[3].Pt7ItemNumber6_CheckboxNo[0] (542, 404)\n",
      "page:  page 3 of i-140.pdf field name:  form1[0].#subform[3].Pt7ItemNumber11_CheckboxYes[0] (500, 614)\n",
      "page:  page 3 of i-140.pdf field name:  form1[0].#subform[3].Pt7ItemNumber11_CheckboxNo[0] (542, 614)\n",
      "page:  page 3 of i-140.pdf field name:  form1[0].#subform[3].Pt7ItemNumber12_CheckboxYes[0] (500, 644)\n",
      "page:  page 3 of i-140.pdf field name:  form1[0].#subform[3].Pt7ItemNumber12_CheckboxNo[0] (542, 644)\n",
      "page:  page 4 of i-140.pdf field name:  form1[0].#pageSet[0].Page1[4].PDF417BarCode1[0] (192, 775)\n",
      "page:  page 4 of i-140.pdf field name:  form1[0].#subform[4].Line2c_Person2MiddleName[1] (120, 187)\n",
      "page:  page 4 of i-140.pdf field name:  form1[0].#subform[4].Line2b_Person2GivenName[1] (120, 163)\n",
      "page:  page 4 of i-140.pdf field name:  form1[0].#subform[4].Line2a_Person2FamilyName[1] (120, 139)\n",
      "page:  page 4 of i-140.pdf field name:  form1[0].#subform[4].Line2f_Relationship[1] (120, 271)\n",
      "page:  page 4 of i-140.pdf field name:  form1[0].#subform[4].Line2d_DateOfBirth[1] (210, 211)\n",
      "page:  page 4 of i-140.pdf field name:  form1[0].#subform[4].Line2e_CountryOfBirth[1] (60, 247)\n",
      "page:  page 4 of i-140.pdf field name:  form1[0].#subform[4].Line2c_Person2MiddleName[2] (120, 427)\n",
      "page:  page 4 of i-140.pdf field name:  form1[0].#subform[4].Line2b_Person2GivenName[2] (120, 403)\n",
      "page:  page 4 of i-140.pdf field name:  form1[0].#subform[4].Line2a_Person2FamilyName[2] (120, 379)\n",
      "page:  page 4 of i-140.pdf field name:  form1[0].#subform[4].Line2d_DateOfBirth[2] (210, 451)\n",
      "page:  page 4 of i-140.pdf field name:  form1[0].#subform[4].Line2c_Person2MiddleName[3] (402, 133)\n",
      "page:  page 4 of i-140.pdf field name:  form1[0].#subform[4].Line2b_Person2GivenName[3] (402, 109)\n",
      "page:  page 4 of i-140.pdf field name:  form1[0].#subform[4].Line2a_Person2FamilyName[3] (402, 85)\n",
      "page:  page 4 of i-140.pdf field name:  form1[0].#subform[4].Line2f_Relationship[2] (402, 217)\n",
      "page:  page 4 of i-140.pdf field name:  form1[0].#subform[4].Line2d_DateOfBirth[3] (492, 157)\n",
      "page:  page 4 of i-140.pdf field name:  form1[0].#subform[4].Line2e_CountryOfBirth[2] (342, 193)\n",
      "page:  page 4 of i-140.pdf field name:  form1[0].#subform[4].Line2c_Person2MiddleName[4] (402, 373)\n",
      "page:  page 4 of i-140.pdf field name:  form1[0].#subform[4].Line2b_Person2GivenName[4] (402, 349)\n",
      "page:  page 4 of i-140.pdf field name:  form1[0].#subform[4].Line2a_Person2FamilyName[4] (402, 325)\n",
      "page:  page 4 of i-140.pdf field name:  form1[0].#subform[4].Line2f_Relationship[3] (402, 457)\n",
      "page:  page 4 of i-140.pdf field name:  form1[0].#subform[4].Line2d_DateOfBirth[4] (492, 397)\n",
      "page:  page 4 of i-140.pdf field name:  form1[0].#subform[4].Line2e_CountryOfBirth[3] (342, 433)\n",
      "page:  page 4 of i-140.pdf field name:  form1[0].#subform[4].Pt7ItemNumber17_CheckboxNo[0] (260, 302)\n",
      "page:  page 4 of i-140.pdf field name:  form1[0].#subform[4].Pt7ItemNumber17_CheckboxYes[0] (218, 302)\n",
      "page:  page 4 of i-140.pdf field name:  form1[0].#subform[4].Pt7ItemNumber18_CheckboxNo[0] (260, 332)\n",
      "page:  page 4 of i-140.pdf field name:  form1[0].#subform[4].Pt7ItemNumber18_CheckboxYes[0] (218, 332)\n",
      "page:  page 4 of i-140.pdf field name:  form1[0].#subform[4].Pt7ItemNumber29_CheckboxNo[0] (542, 248)\n",
      "page:  page 4 of i-140.pdf field name:  form1[0].#subform[4].Pt7ItemNumber29_CheckboxYes[0] (500, 248)\n",
      "page:  page 4 of i-140.pdf field name:  form1[0].#subform[4].Pt7ItemNumber30_CheckboxNo[0] (542, 278)\n",
      "page:  page 4 of i-140.pdf field name:  form1[0].#subform[4].Pt7ItemNumber30_CheckboxYes[0] (500, 278)\n",
      "page:  page 4 of i-140.pdf field name:  form1[0].#subform[4].Pt7ItemNumber35_CheckboxNo[0] (542, 488)\n",
      "page:  page 4 of i-140.pdf field name:  form1[0].#subform[4].Pt7ItemNumber35_CheckboxYes[0] (500, 488)\n",
      "page:  page 4 of i-140.pdf field name:  form1[0].#subform[4].Pt7ItemNumber36_CheckboxNo[0] (542, 518)\n",
      "page:  page 4 of i-140.pdf field name:  form1[0].#subform[4].Pt7ItemNumber36_CheckboxYes[0] (500, 518)\n",
      "page:  page 4 of i-140.pdf field name:  form1[0].#subform[4].Line2f_Relationship[4] (120, 511)\n",
      "page:  page 4 of i-140.pdf field name:  form1[0].#subform[4].Line2e_CountryOfBirth[4] (60, 487)\n",
      "page:  page 4 of i-140.pdf field name:  form1[0].#subform[4].Pt7ItemNumber23_CheckboxNo[0] (260, 542)\n",
      "page:  page 4 of i-140.pdf field name:  form1[0].#subform[4].Pt7ItemNumber23_CheckboxYes[0] (218, 542)\n",
      "page:  page 4 of i-140.pdf field name:  form1[0].#subform[4].Pt7ItemNumber24_CheckboxNo[0] (260, 572)\n",
      "page:  page 4 of i-140.pdf field name:  form1[0].#subform[4].Pt7ItemNumber24_CheckboxYes[0] (218, 572)\n",
      "page:  page 5 of i-140.pdf field name:  form1[0].#pageSet[0].Page1[5].PDF417BarCode1[0] (192, 775)\n",
      "page:  page 5 of i-140.pdf field name:  form1[0].#subform[5].Part7_Item3a_FamilyName[0] (60, 187)\n",
      "page:  page 5 of i-140.pdf field name:  form1[0].#subform[5].Part7_Item4_Title[0] (60, 271)\n",
      "page:  page 5 of i-140.pdf field name:  form1[0].#subform[5].Part7_Item3b_GivenName[0] (60, 235)\n",
      "page:  page 5 of i-140.pdf field name:  form1[0].#subform[5].Part7_Item7_Email[0] (60, 415)\n",
      "page:  page 5 of i-140.pdf field name:  form1[0].#subform[5].Part7_Item6_MobilePhone[0] (60, 367)\n",
      "page:  page 5 of i-140.pdf field name:  form1[0].#subform[5].Part7_Item5_DayPhone[0] (60, 319)\n",
      "page:  page 5 of i-140.pdf field name:  form1[0].#subform[5].Part7_Item8b_Date[0] (210, 715)\n",
      "page:  page 5 of i-140.pdf field name:  form1[0].#subform[5].Part8_Item1a_FamilyName[0] (342, 145)\n",
      "page:  page 5 of i-140.pdf field name:  form1[0].#subform[5].Part8_Item2_OrgName[0] (342, 217)\n",
      "page:  page 5 of i-140.pdf field name:  form1[0].#subform[5].Part8_Item1b_GivenName[0] (342, 181)\n",
      "page:  page 5 of i-140.pdf field name:  form1[0].#subform[5].Line1a_SignatureofPetitioner[0] (60, 691)\n",
      "page:  page 5 of i-140.pdf field name:  form1[0].#subform[5].Part8_Item4_DayPhone[0] (342, 283)\n",
      "page:  page 5 of i-140.pdf field name:  form1[0].#subform[5].Part8_Item6_Email[0] (342, 355)\n",
      "page:  page 5 of i-140.pdf field name:  form1[0].#subform[5].Part8_Item5_MobilePhone[0] (342, 319)\n",
      "page:  page 5 of i-140.pdf field name:  form1[0].#subform[5].Part8_Item6_Language[0] (336, 427)\n",
      "page:  page 5 of i-140.pdf field name:  form1[0].#subform[5].Part6_Line6a_InterpretersSignature[0] (342, 535)\n",
      "page:  page 5 of i-140.pdf field name:  form1[0].#subform[5].Part8_Item7b_Date[0] (492, 559)\n",
      "page:  page 6 of i-140.pdf field name:  form1[0].#pageSet[0].Page1[6].PDF417BarCode1[0] (192, 775)\n",
      "page:  page 6 of i-140.pdf field name:  form1[0].#subform[6].Part10_Item1_FamilyName[0] (60, 181)\n",
      "page:  page 6 of i-140.pdf field name:  form1[0].#subform[6].Part10_Item2_OrgName[0] (60, 253)\n",
      "page:  page 6 of i-140.pdf field name:  form1[0].#subform[6].Part10_Item1_GivenName[0] (60, 217)\n",
      "page:  page 6 of i-140.pdf field name:  form1[0].#subform[6].Part10_Item3_DayPhone[0] (60, 319)\n",
      "page:  page 6 of i-140.pdf field name:  form1[0].#subform[6].Part10_Item5_Email[0] (60, 391)\n",
      "page:  page 6 of i-140.pdf field name:  form1[0].#subform[6].Part10_Item4_MobilePhone[0] (60, 355)\n",
      "page:  page 6 of i-140.pdf field name:  form1[0].#subform[6].Part10_Item6__Date[0] (210, 595)\n",
      "page:  page 6 of i-140.pdf field name:  form1[0].#subform[6].Part10_Item6_SignatureofPetitioner[0] (60, 571)\n",
      "page:  page 7 of i-140.pdf field name:  form1[0].#pageSet[0].Page1[7].PDF417BarCode1[0] (192, 775)\n",
      "page:  page 7 of i-140.pdf field name:  form1[0].#subform[7].Pt9Line3d_AdditionalInfo[0] (60, 453)\n",
      "page:  page 7 of i-140.pdf field name:  form1[0].#subform[7].Pt1Line1a_FamilyName[1] (120, 193)\n",
      "page:  page 7 of i-140.pdf field name:  form1[0].#subform[7].Pt1Line1b_GivenName[1] (120, 217)\n",
      "page:  page 7 of i-140.pdf field name:  form1[0].#subform[7].Pt1Line1c_MiddleName[1] (120, 241)\n",
      "page:  page 7 of i-140.pdf field name:  form1[0].#subform[7].Pt9Line3a_PageNumber[0] (60, 307)\n",
      "page:  page 7 of i-140.pdf field name:  form1[0].#subform[7].Pt9Line3b_PartNumber[0] (138, 307)\n",
      "page:  page 7 of i-140.pdf field name:  form1[0].#subform[7].Pt9Line3c_ItemNumber[0] (216, 307)\n",
      "page:  page 7 of i-140.pdf field name:  form1[0].#subform[7].Pt9Line4d_AdditionalInfo[0] (60, 681)\n",
      "page:  page 7 of i-140.pdf field name:  form1[0].#subform[7].Pt9Line4a_PageNumber[0] (60, 535)\n",
      "page:  page 7 of i-140.pdf field name:  form1[0].#subform[7].Pt9Line4b_PartNumber[0] (138, 535)\n",
      "page:  page 7 of i-140.pdf field name:  form1[0].#subform[7].Pt9Line4c_ItemNumber[0] (216, 535)\n",
      "page:  page 7 of i-140.pdf field name:  form1[0].#subform[7].Pt9Line5d_AdditionalInfo[0] (342, 225)\n",
      "page:  page 7 of i-140.pdf field name:  form1[0].#subform[7].Pt9Line5a_PageNumber[0] (342, 79)\n",
      "page:  page 7 of i-140.pdf field name:  form1[0].#subform[7].Pt9Line5b_PartNumber[0] (420, 79)\n",
      "page:  page 7 of i-140.pdf field name:  form1[0].#subform[7].Pt9Line5c_ItemNumber[0] (498, 79)\n",
      "page:  page 7 of i-140.pdf field name:  form1[0].#subform[7].Pt9Line6d_AdditionalInfo[0] (342, 453)\n",
      "page:  page 7 of i-140.pdf field name:  form1[0].#subform[7].Pt9Line6c_ItemNumber[0] (498, 535)\n",
      "page:  page 7 of i-140.pdf field name:  form1[0].#subform[7].Pt9Line6b_PartNumber[0] (420, 535)\n",
      "page:  page 7 of i-140.pdf field name:  form1[0].#subform[7].Pt9Line6a_PageNumber[0] (342, 535)\n",
      "page:  page 7 of i-140.pdf field name:  form1[0].#subform[7].Pt9Line6d_AdditionalInfo[1] (342, 681)\n",
      "page:  page 7 of i-140.pdf field name:  form1[0].#subform[7].Pt9Line6a_PageNumber[1] (342, 307)\n",
      "page:  page 7 of i-140.pdf field name:  form1[0].#subform[7].Pt9Line6b_PartNumber[1] (420, 307)\n",
      "page:  page 7 of i-140.pdf field name:  form1[0].#subform[7].Pt9Line6c_ItemNumber[1] (498, 307)\n",
      "page:  page 7 of i-140.pdf field name:  form1[0].#subform[7].#area[6].Pt1Line3_TaxNumber[1] (165, 265)\n"
     ]
    }
   ],
   "source": [
    "# Load the PDF\n",
    "mapping140 = {}\n",
    "\n",
    "pdf_path = \"i-140.pdf\"\n",
    "doc = fitz.open(pdf_path)\n",
    "\n",
    "all_fields = []\n",
    "for page_idx, page in enumerate(doc):\n",
    "    # Get all form fields (widgets) on this page\n",
    "    fields = page.widgets()\n",
    "    \n",
    "    # Append field names to the all_fields list\n",
    "    for field in fields:\n",
    "        position = field.rect\n",
    "        x0, y0, x1, y1 = position\n",
    "        x0 = x0 \n",
    "        y0 = y0+(y1-y0)*3//4\n",
    "        mapping140[field.field_name] = {'page_index':page_idx, 'key': None, 'position': (x0, y0), 'fill':True}\n",
    "        \n",
    "        all_fields.append(field.field_name)\n",
    "        print('page: ', page, 'field name: ', field.field_name, (round(x0), round(y0)))\n",
    "        \n",
    "doc.close()"
   ]
  },
  {
   "cell_type": "code",
   "execution_count": 12,
   "id": "d92b56af-7d75-4c8a-88b0-a9ea4fbb22ac",
   "metadata": {},
   "outputs": [
    {
     "data": {
      "text/plain": [
       "<generator object Page.widgets at 0x10cffaa50>"
      ]
     },
     "execution_count": 12,
     "metadata": {},
     "output_type": "execute_result"
    }
   ],
   "source": [
    "fields"
   ]
  },
  {
   "cell_type": "code",
   "execution_count": null,
   "id": "e3d2e19e-e552-4545-a4f5-3225955af5d6",
   "metadata": {},
   "outputs": [],
   "source": []
  },
  {
   "cell_type": "code",
   "execution_count": null,
   "id": "4e9b8e72-3fca-428b-ba34-f0a21f4ef37a",
   "metadata": {},
   "outputs": [],
   "source": []
  },
  {
   "cell_type": "raw",
   "id": "602d19c4-ac63-4a18-9d2c-454f0590cd19",
   "metadata": {},
   "source": [
    "with open(\"mapping140.json\", 'w', encoding='utf-8') as json_file:\n",
    "    json.dump(mapping140, json_file, ensure_ascii=False, indent=4)"
   ]
  },
  {
   "cell_type": "code",
   "execution_count": 11,
   "id": "9e0123bd-47b6-409c-89ba-ea65dd86f799",
   "metadata": {},
   "outputs": [],
   "source": [
    "#mapping140"
   ]
  },
  {
   "cell_type": "code",
   "execution_count": null,
   "id": "4fdc31c2-1055-4d77-830b-5418f6c0a644",
   "metadata": {},
   "outputs": [],
   "source": []
  },
  {
   "cell_type": "code",
   "execution_count": null,
   "id": "9acd3b11-0aff-453b-975d-310f5f314603",
   "metadata": {},
   "outputs": [],
   "source": []
  },
  {
   "cell_type": "markdown",
   "id": "e40154e1-0ca7-4e5f-bf71-8818e32c0a62",
   "metadata": {},
   "source": [
    "# mapping"
   ]
  },
  {
   "cell_type": "code",
   "execution_count": 12,
   "id": "b53ea0dc-a3ef-4131-850f-1671dfee97a7",
   "metadata": {},
   "outputs": [],
   "source": [
    "# Data in user-friendly format\n",
    "info = {\n",
    "    \"first name\": \"Wen\",\n",
    "    \"last name\": \"Xie\",\n",
    "    \"email address\": \"vaneshieh@gmail.com\",\n",
    "    \"phone number\": \"3462566096\"\n",
    "}\n",
    "\n",
    "# Exact mapping of dictionary keys to PDF field names\n",
    "field_mapping = {\n",
    "    \"form1[0].#subform[0].FirstName[0]\": \"first name\",\n",
    "    \"form1[0].#subform[0].LastName[0]\": \"last name\",\n",
    "    \"form1[0].#subform[0].Email[0]\": \"email address\",\n",
    "    \"form1[0].#subform[0].MobilePhoneNumber[0]\": \"phone number\"\n",
    "}"
   ]
  },
  {
   "cell_type": "code",
   "execution_count": null,
   "id": "1af93444-ca50-4dc0-9097-8a3a907973f0",
   "metadata": {},
   "outputs": [],
   "source": []
  },
  {
   "cell_type": "code",
   "execution_count": null,
   "id": "23044e66-42b2-4d08-8adb-569554826ef9",
   "metadata": {},
   "outputs": [],
   "source": []
  },
  {
   "cell_type": "markdown",
   "id": "9d624bef-032e-4990-a526-b4e18feb7381",
   "metadata": {
    "jp-MarkdownHeadingCollapsed": true,
    "tags": []
   },
   "source": [
    "# extract fields position and insert texts to static pdf"
   ]
  },
  {
   "cell_type": "raw",
   "id": "eea670e2-0722-46d9-8ad4-6e3b110f7f09",
   "metadata": {},
   "source": [
    "# Function to extract field positions from the original fillable PDF\n",
    "def extract_field_positions(pdf_path):\n",
    "    doc = fitz.open(pdf_path)\n",
    "    field_positions = {}\n",
    "\n",
    "    # Get all widgets (form fields) in the document\n",
    "    for page_num in range(len(doc)):\n",
    "        page = doc.load_page(page_num)\n",
    "        widgets = page.widgets()\n",
    "        \n",
    "        # Extract field name and position\n",
    "        for widget in widgets:\n",
    "            field_name = widget.field_name\n",
    "            if field_name:\n",
    "                # Get the field position: widget.rect gives (x0, y0, x1, y1) for the field's bounding box\n",
    "                position = widget.rect\n",
    "                field_positions[field_name] = position\n",
    "\n",
    "    doc.close()\n",
    "    return field_positions"
   ]
  },
  {
   "cell_type": "code",
   "execution_count": 72,
   "id": "e33aadaa-be85-493b-8e88-9fddd395c5df",
   "metadata": {},
   "outputs": [],
   "source": [
    "def fill_static_pdf(static_pdf_path, output_pdf_path, field_mapping):\n",
    "    doc = fitz.open(static_pdf_path)\n",
    "\n",
    "    for field_name in field_mapping.keys():\n",
    "        #key = field_mapping[field_name]\n",
    "        #value = info[key]\n",
    "        #### test\n",
    "        value = field_mapping[field_name]['value']\n",
    "        page_index = field_mapping[field_name]['page_index']\n",
    "        x0, y0 = field_mapping[field_name]['position']\n",
    "\n",
    "        page = doc[page_index]  # We assume you want to fill the first page, modify if needed\n",
    "        page.insert_text((x0, y0), value, fontsize=12)  # You can adjust fontsize as needed\n",
    "\n",
    "    # Save the filled static PDF\n",
    "    doc.save(output_pdf_path)\n",
    "    doc.close()\n",
    "    print(f\"Filled form saved as {output_pdf_path}\")"
   ]
  },
  {
   "cell_type": "code",
   "execution_count": null,
   "id": "0241fe5f-375b-4ed0-b963-9e482c2e79a6",
   "metadata": {},
   "outputs": [],
   "source": []
  },
  {
   "cell_type": "markdown",
   "id": "993eca26-6a0a-4191-954f-d9d1a8f8c1f1",
   "metadata": {
    "jp-MarkdownHeadingCollapsed": true,
    "tags": []
   },
   "source": [
    "# deploy"
   ]
  },
  {
   "cell_type": "code",
   "execution_count": 74,
   "id": "d51cfef2-43a8-4a04-a091-3abebde643a5",
   "metadata": {},
   "outputs": [
    {
     "name": "stdout",
     "output_type": "stream",
     "text": [
      "Filled form saved as filled_g-1145.pdf\n"
     ]
    }
   ],
   "source": [
    "fillable_pdf_path = \"g-1145.pdf\"\n",
    "static_pdf_path = \"g-1145-static.pdf\"\n",
    "output_pdf_path = \"filled_g-1145.pdf\"\n",
    "\n",
    "field_mapping = mapping1145\n",
    "fill_static_pdf(static_pdf_path, output_pdf_path, field_mapping)"
   ]
  },
  {
   "cell_type": "code",
   "execution_count": null,
   "id": "e1eee536-00a8-4dbd-b88b-6a6d3260d220",
   "metadata": {},
   "outputs": [],
   "source": []
  },
  {
   "cell_type": "code",
   "execution_count": 75,
   "id": "0e63c599-e7a0-4385-9a31-8c0cb50e26a1",
   "metadata": {},
   "outputs": [
    {
     "name": "stdout",
     "output_type": "stream",
     "text": [
      "Filled form saved as filled_ETA-9089-Appendix-A.pdf\n"
     ]
    }
   ],
   "source": [
    "fillable_pdf_path = \"ETA-9089-Appendix-A.pdf\"\n",
    "static_pdf_path = \"ETA-9089-Appendix-A-static.pdf\"\n",
    "output_pdf_path = \"filled_ETA-9089-Appendix-A.pdf\"\n",
    "\n",
    "field_mapping = mapping9089\n",
    "fill_static_pdf(static_pdf_path, output_pdf_path, field_mapping)"
   ]
  },
  {
   "cell_type": "code",
   "execution_count": null,
   "id": "3514a1ad-6756-4351-a07b-9513f006a030",
   "metadata": {},
   "outputs": [],
   "source": []
  },
  {
   "cell_type": "code",
   "execution_count": 76,
   "id": "afae1e92-30d7-45ed-848f-f11ae8fef541",
   "metadata": {},
   "outputs": [
    {
     "name": "stdout",
     "output_type": "stream",
     "text": [
      "Filled form saved as filled_i-140.pdf\n"
     ]
    }
   ],
   "source": [
    "fillable_pdf_path = \"i-140.pdf\"\n",
    "static_pdf_path = \"i-140-static.pdf\"\n",
    "output_pdf_path = \"filled_i-140.pdf\"\n",
    "\n",
    "field_mapping = mapping140\n",
    "fill_static_pdf(static_pdf_path, output_pdf_path, field_mapping)"
   ]
  },
  {
   "cell_type": "code",
   "execution_count": null,
   "id": "5e01d990-563b-42d7-8124-da73ee50ea6b",
   "metadata": {},
   "outputs": [],
   "source": []
  },
  {
   "cell_type": "code",
   "execution_count": null,
   "id": "86d05eca-6264-4400-bbcd-a3144cdcdad1",
   "metadata": {},
   "outputs": [],
   "source": []
  },
  {
   "cell_type": "code",
   "execution_count": null,
   "id": "3e596a40-df28-4bb4-a1f3-7960f5d6309b",
   "metadata": {},
   "outputs": [],
   "source": []
  },
  {
   "cell_type": "code",
   "execution_count": null,
   "id": "76f13b1d-c61f-40ca-922e-5c7a378e128f",
   "metadata": {},
   "outputs": [],
   "source": []
  }
 ],
 "metadata": {
  "kernelspec": {
   "display_name": "base",
   "language": "python",
   "name": "python3"
  },
  "language_info": {
   "codemirror_mode": {
    "name": "ipython",
    "version": 3
   },
   "file_extension": ".py",
   "mimetype": "text/x-python",
   "name": "python",
   "nbconvert_exporter": "python",
   "pygments_lexer": "ipython3",
   "version": "3.9.15"
  }
 },
 "nbformat": 4,
 "nbformat_minor": 5
}
