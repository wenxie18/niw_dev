{
 "cells": [
  {
   "cell_type": "code",
   "execution_count": 3,
   "id": "de5d0a5d-3a92-45ff-8931-e82e359bcb2f",
   "metadata": {},
   "outputs": [],
   "source": [
    "import fitz  # PyMuPDF\n",
    "import json\n",
    "import pandas as pd"
   ]
  },
  {
   "cell_type": "code",
   "execution_count": 4,
   "id": "e7ab9852-df26-46a7-9546-d93fc107a385",
   "metadata": {},
   "outputs": [],
   "source": [
    "data = pd.read_excel('survey.xlsx')"
   ]
  },
  {
   "cell_type": "code",
   "execution_count": 6,
   "id": "5da89249-549d-4ec0-965e-362c2868dce8",
   "metadata": {},
   "outputs": [
    {
     "name": "stdout",
     "output_type": "stream",
     "text": [
      "['Timestamp', 'S2.1. Last Name / Family Name / Surname', 'S2.2. First Name / Given Name', 'S2.7. Middle Name', 'S2.4. Date of Birth (mm/dd/yyyy)', 'S2.5. Email Address', 'S2.6. Mobile Number', 'S2.3. Country of Birth', 'S3.2. Street Address', 'S3.3. Apartment / Suite / Floor', 'S3.4. Apartment / Suite / Floor Number', 'S3.5. City', 'S3.6. State', 'S3.7. Postal Code', 'S3.8. Country', 'S4.1. Class of Admission', 'S4.2. Alien Registration Number (A#)', 'S4.3. Country of Citizenship or Nationality', 'S4.4.0. Alien is in the United States and will apply for adjustment of status to that of lawful permanent resident.', \"S4.4. Alien's current country of residence or, if now in the United States, last country of permanent residence abroad.\", 'S4.5. Foreign address Steet Number and Name', 'S4.6. Foreign address Apt, Ste, Flr.', 'S4.7. Foreign address City or Town', 'S4.8. Foreign address Province', 'S4.9. Foreign address Postal Code', 'S4.10. Foreign address Country', 'S5.2. U.S. Diploma / Degree attained relevant to the job opportunity', \"S5.3. Choose box, A professional (at minimum, processing a bachelor's degree or a foreign degree equivalent to a U.S. bachelor's degree)\", 'S5.4. Specify major(s) and/or field(s) of study (may list more than one related major and more than one field)', 'S5.5. Name of Institution that issued the degree/diploma', 'S5.4.1  Name of Country of institution that issued the degree/diploma in the prior question', 'S5.6. Month/year attained (mm/yyyy)', 'S6.1. Employer Name', 'S6.2. Employer Address 1', 'S6.3. Employer Address 2', 'S6.4. Employer City or Town', 'S6.5. Employer Postal Code', 'S6.6. Employer Country', 'S6.7. Employer State, Territory, or Province', 'S6.8. Job Title', 'S6.9. Job SOC Code', 'S6.10. Annual Income in USD($)', 'S6.11. Is this a full-time position?', 'S6.12. Is this a permanent position?', 'S6.13. Is this a new position?', 'S6.14. Job Start Date', 'S6.15. Job is current', 'S6.16. Worksite Location', 'S6.17. Other worksite location Street Number and Name', 'S6.18. Other worksite location APT / STE / FLR and Unit', 'S6.19. Other worksite location City or Town', 'S6.20. Other worksite location State', 'S6.21. Other worksite location ZIP Code', 'S6.22. Job End Date', 'S6.23. Hours Worked Per Week', 'S6.24. Job Duties: Specify details of the job (work tasks performed, use of tools/equipment, supervision, etc.) (up to 3,500 characters)', 'S6.25. Are you a nonprofit organized as tax exempt or a governmental research organization?', 'S6.26. Do you currently employ a total of 25 or fewer full-time equivalent employees in the United States, including all affiliates or subsidiaries of this company/organization?', 'S7.1. Date of Last Arrival (mm/dd/yyyy)', 'S7.2. Travel Document Number / Passport Number', 'S7.3. Admission I-94 Record Number', 'S7.4. Status on Form I-94 (i.e. class of admission, or paroled, if paroled)', 'S7.5. Country of Issuance for Passport or Travel Document', 'S7.6. Expiration Date for Passport or Travel Document (mm/dd/yyyy)', 'S7.7. Expiration Date for  I-94 (mm/dd/yyyy)', 'S8.0. This petition is being filed for (select only one box):', 'S8.1. Are you filing any other petitions or applications with the Form I-140?', 'S8.2. Is this person for whom you are filing in removal Proceedings?', 'S8.3. Has any immigrant visa petition ever been filed by or on behalf of this person?', 'S8.4. Are you filing this petition without an original labor certification because the original labor certification was previously submitted in support of another Form I-140?', 'S8.5. If you are filing this petition without an original labor certification, are you requesting that U.S. Citizenship and Immigration Services (USCIS) requests duplicate labor certification from the Department of Labor (DOL)?', 'S8.6. Type of petitioner', 'S8.7. Are you using a Petitioner or Authorized Signatory?', \"S8.8. Petitioner's or Authorized Signatory's Family Name (Last Name\", \"S8.9. Petitioner's or Authorized Signatory's Given Name (First Name\", \"S8.10. Petitioner's or Authorized Signatory's Title\", \"S8.11. Petitioner's or Authorized Signatory's Daytime Telephone Number\", \"S8.12. Petitioner's or Authorized Signatory's Mobile Telephone Number\", \"S8.13. Petitioner's or Authorized Signatory's Email Address (if any)\", 'S9.1. U.S. Social Security Number (SSN) (if any)', 'S9.2. USCIS Online Account Number (if any)', 'S9.3. Signature', \"S9.4. Petitioner's or Authorized Signatory's Signature\", 'S9.5. Date Signed', 'S3.9. Last Country of Permanent Residence Abroad', 'S2.8. First Name / Given Name (Native)', 'S2.9. Last Name / Family Name / Surname (Native)', 'S2.10. Middle Name (Native)', 'S9.6. Are you applying with I485 (No)', 'S9.7. Are you applying with PP Premium Processing Service  (No)', 'S3.10. Street Address (other than US)', 'Column 85', 'Column 86', 'Column 87', 'Column 88', 'Column 89', 'S3.11. Apartment / Suite / Floor  (other than US)', 'S3.12. Apartment / Suite / Floor Number  (other than US)', 'S3.13. City  (other than US)', 'S3.6. State/Province  (other than US)', 'S3.7. Postal Code  (other than US)', 'S3.8. Country  (other than US)', 'Column 80']\n"
     ]
    }
   ],
   "source": [
    "print(list(data.columns))"
   ]
  },
  {
   "cell_type": "code",
   "execution_count": null,
   "id": "090059b7-8f80-4695-8df7-b0599e3bf46f",
   "metadata": {},
   "outputs": [],
   "source": []
  },
  {
   "cell_type": "code",
   "execution_count": null,
   "id": "57d2d377-f067-4ada-8870-fb0c10dbb28f",
   "metadata": {},
   "outputs": [],
   "source": []
  },
  {
   "cell_type": "code",
   "execution_count": null,
   "id": "1d972454-bbc3-4974-9fef-c3f3e97f7e9e",
   "metadata": {},
   "outputs": [],
   "source": []
  },
  {
   "cell_type": "code",
   "execution_count": 6,
   "id": "9c3b88fe-5049-4b48-9ce6-af58549804bb",
   "metadata": {},
   "outputs": [],
   "source": [
    "def fill_static_pdf(static_pdf_path, output_pdf_path, field_mapping):\n",
    "    doc = fitz.open(static_pdf_path)\n",
    "\n",
    "    for field_name in field_mapping.keys():\n",
    "        #key = field_mapping[field_name]\n",
    "        #value = info[key]\n",
    "        #### test\n",
    "        #value = field_mapping[field_name]['value']\n",
    "        value = field_mapping[field_name]['key']\n",
    "        page_index = field_mapping[field_name]['page_index']\n",
    "        x0, y0 = field_mapping[field_name]['position']\n",
    "\n",
    "        page = doc[page_index]  # We assume you want to fill the first page, modify if needed\n",
    "        page.insert_text((x0, y0), value, fontsize=12)  # You can adjust fontsize as needed\n",
    "\n",
    "    # Save the filled static PDF\n",
    "    doc.save(output_pdf_path)\n",
    "    doc.close()\n",
    "    print(f\"Filled form saved as {output_pdf_path}\")"
   ]
  },
  {
   "cell_type": "code",
   "execution_count": 7,
   "id": "bec7be70-ab86-4739-a3a2-d06aa81f9441",
   "metadata": {},
   "outputs": [
    {
     "name": "stdout",
     "output_type": "stream",
     "text": [
      "Filled form saved as filled_g-1145.pdf\n"
     ]
    }
   ],
   "source": [
    "fillable_pdf_path = \"g-1145.pdf\"\n",
    "static_pdf_path = \"g-1145-static.pdf\"\n",
    "output_pdf_path = \"filled_g-1145.pdf\"\n",
    "\n",
    "with open(\"mapping1145_final.json\", 'r', encoding='utf-8') as json_file:\n",
    "    mapping1145 = json.load(json_file)\n",
    "\n",
    "field_mapping = mapping1145\n",
    "fill_static_pdf(static_pdf_path, output_pdf_path, field_mapping)"
   ]
  },
  {
   "cell_type": "code",
   "execution_count": 8,
   "id": "ea28f2a7",
   "metadata": {},
   "outputs": [
    {
     "name": "stdout",
     "output_type": "stream",
     "text": [
      "Filled form saved as filled_i-140.pdf\n"
     ]
    }
   ],
   "source": [
    "fillable_pdf_path = \"i-140.pdf\"\n",
    "static_pdf_path = \"i-140-static.pdf\"\n",
    "output_pdf_path = \"filled_i-140.pdf\"\n",
    "\n",
    "with open(\"mapping140_final.json\", 'r', encoding='utf-8') as json_file:\n",
    "    mapping1145 = json.load(json_file)\n",
    "\n",
    "field_mapping = mapping1145\n",
    "fill_static_pdf(static_pdf_path, output_pdf_path, field_mapping)"
   ]
  },
  {
   "cell_type": "code",
   "execution_count": null,
   "id": "7ce9fc39",
   "metadata": {},
   "outputs": [],
   "source": []
  },
  {
   "cell_type": "code",
   "execution_count": null,
   "id": "55a9aec0",
   "metadata": {},
   "outputs": [],
   "source": []
  },
  {
   "cell_type": "code",
   "execution_count": null,
   "id": "2a4a4806",
   "metadata": {},
   "outputs": [],
   "source": []
  },
  {
   "cell_type": "code",
   "execution_count": null,
   "id": "1d75d613-d54e-46b5-9b2a-e95b1f18870e",
   "metadata": {},
   "outputs": [],
   "source": []
  },
  {
   "cell_type": "code",
   "execution_count": null,
   "id": "fc8546af-f209-487e-a8e1-fcd534f3a3f7",
   "metadata": {},
   "outputs": [],
   "source": []
  }
 ],
 "metadata": {
  "kernelspec": {
   "display_name": "base",
   "language": "python",
   "name": "python3"
  },
  "language_info": {
   "codemirror_mode": {
    "name": "ipython",
    "version": 3
   },
   "file_extension": ".py",
   "mimetype": "text/x-python",
   "name": "python",
   "nbconvert_exporter": "python",
   "pygments_lexer": "ipython3",
   "version": "3.9.15"
  }
 },
 "nbformat": 4,
 "nbformat_minor": 5
}
